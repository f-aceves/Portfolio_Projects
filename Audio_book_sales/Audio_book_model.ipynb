{
 "cells": [
  {
   "cell_type": "code",
   "execution_count": 38,
   "source": [
    "#Import necessary packages\r\n",
    "\r\n",
    "import numpy as np\r\n",
    "import pandas as pd \r\n",
    "import matplotlib.pyplot as plt\r\n",
    "import seaborn as sns\r\n",
    "sns.set_theme()\r\n",
    "import tensorflow as tf"
   ],
   "outputs": [],
   "metadata": {
    "_cell_guid": "b1076dfc-b9ad-4769-8c92-a6c4dae69d19",
    "_uuid": "8f2839f25d086af736a60e9eeb907d3b93b6e0e5",
    "execution": {
     "iopub.execute_input": "2021-08-27T03:18:28.195260Z",
     "iopub.status.busy": "2021-08-27T03:18:28.194058Z",
     "iopub.status.idle": "2021-08-27T03:18:34.180959Z",
     "shell.execute_reply": "2021-08-27T03:18:34.180211Z",
     "shell.execute_reply.started": "2021-08-27T02:37:41.969197Z"
    },
    "papermill": {
     "duration": 5.999643,
     "end_time": "2021-08-27T03:18:34.181135",
     "exception": false,
     "start_time": "2021-08-27T03:18:28.181492",
     "status": "completed"
    },
    "tags": []
   }
  },
  {
   "cell_type": "code",
   "execution_count": 19,
   "source": [
    "#loading train, val, and test data\r\n",
    "train_data = np.load('audiobook_train_data.npz')\r\n",
    "\r\n",
    "train_inputs = train_data['inputs'].astype('float')\r\n",
    "train_targets = train_data['targets'].astype('int')\r\n",
    "\r\n",
    "val_data = np.load('audiobook_val_data.npz')\r\n",
    "val_inputs = val_data['inputs'].astype('float')\r\n",
    "val_targets = val_data['targets'].astype('int')\r\n",
    "\r\n",
    "test_data = np.load('audiobook_test_data.npz')\r\n",
    "test_inputs = test_data['inputs'].astype('float')\r\n",
    "test_targets = test_data['targets'].astype('int')"
   ],
   "outputs": [],
   "metadata": {
    "execution": {
     "iopub.execute_input": "2021-08-27T03:18:34.207047Z",
     "iopub.status.busy": "2021-08-27T03:18:34.206365Z",
     "iopub.status.idle": "2021-08-27T03:18:34.248277Z",
     "shell.execute_reply": "2021-08-27T03:18:34.248812Z",
     "shell.execute_reply.started": "2021-08-27T02:50:05.340964Z"
    },
    "papermill": {
     "duration": 0.059031,
     "end_time": "2021-08-27T03:18:34.248996",
     "exception": false,
     "start_time": "2021-08-27T03:18:34.189965",
     "status": "completed"
    },
    "tags": []
   }
  },
  {
   "cell_type": "code",
   "execution_count": 20,
   "source": [
    "print(train_inputs.shape,\r\n",
    "train_targets.shape, \r\n",
    "val_inputs.shape, val_targets.shape, test_inputs.shape, test_targets.shape)"
   ],
   "outputs": [
    {
     "output_type": "stream",
     "name": "stdout",
     "text": [
      "(11267, 10) (11267,) (1408, 10) (1408,) (1409, 10) (1409,)\n"
     ]
    }
   ],
   "metadata": {}
  },
  {
   "cell_type": "markdown",
   "source": [
    "# Create Model"
   ],
   "metadata": {
    "papermill": {
     "duration": 0.008693,
     "end_time": "2021-08-27T03:18:34.266700",
     "exception": false,
     "start_time": "2021-08-27T03:18:34.258007",
     "status": "completed"
    },
    "tags": []
   }
  },
  {
   "cell_type": "code",
   "execution_count": 26,
   "source": [
    "#label my hyperperameters\r\n",
    "hidden_layer_size = 400\r\n",
    "input_layer = train_inputs.shape[0]\r\n",
    "output_layer = 2\r\n",
    "\r\n",
    "#create model\r\n",
    "model = tf.keras.Sequential([\r\n",
    "                            tf.keras.layers.Dense(hidden_layer_size, activation = 'relu'),\r\n",
    "                            #tf.keras.layers.Dense(hidden_layer_size, activation = 'relu'),\r\n",
    "                            tf.keras.layers.Dense(output_layer, activation = 'softmax')\r\n",
    "])\r\n",
    "\r\n",
    "#create optimizer and loss function\r\n",
    "model.compile(optimizer = 'adam', \r\n",
    "              loss = 'sparse_categorical_crossentropy', \r\n",
    "              metrics = ['accuracy'])\r\n",
    "\r\n",
    "batch_size = 100\r\n",
    "max_epochs = 100\r\n",
    "\r\n",
    "early_stop = tf.keras.callbacks.EarlyStopping()\r\n"
   ],
   "outputs": [],
   "metadata": {
    "execution": {
     "iopub.execute_input": "2021-08-27T03:18:34.287268Z",
     "iopub.status.busy": "2021-08-27T03:18:34.286670Z",
     "iopub.status.idle": "2021-08-27T03:18:34.356236Z",
     "shell.execute_reply": "2021-08-27T03:18:34.356825Z",
     "shell.execute_reply.started": "2021-08-27T03:14:40.347823Z"
    },
    "papermill": {
     "duration": 0.081454,
     "end_time": "2021-08-27T03:18:34.356993",
     "exception": false,
     "start_time": "2021-08-27T03:18:34.275539",
     "status": "completed"
    },
    "tags": []
   }
  },
  {
   "cell_type": "code",
   "execution_count": 27,
   "source": [
    "model.fit(train_inputs, train_targets,\r\n",
    "         batch_size = batch_size,\r\n",
    "          epochs = max_epochs,\r\n",
    "          validation_data = (val_inputs, val_targets),\r\n",
    "          callbacks = [early_stop],\r\n",
    "          verbose = 2)"
   ],
   "outputs": [
    {
     "output_type": "stream",
     "name": "stdout",
     "text": [
      "Epoch 1/100\n",
      "113/113 - 2s - loss: 0.3345 - accuracy: 0.8843 - val_loss: 0.2651 - val_accuracy: 0.9062\n",
      "Epoch 2/100\n",
      "113/113 - 0s - loss: 0.2645 - accuracy: 0.9030 - val_loss: 0.2519 - val_accuracy: 0.9105\n",
      "Epoch 3/100\n",
      "113/113 - 0s - loss: 0.2524 - accuracy: 0.9049 - val_loss: 0.2386 - val_accuracy: 0.9162\n",
      "Epoch 4/100\n",
      "113/113 - 0s - loss: 0.2444 - accuracy: 0.9074 - val_loss: 0.2358 - val_accuracy: 0.9162\n",
      "Epoch 5/100\n",
      "113/113 - 0s - loss: 0.2402 - accuracy: 0.9073 - val_loss: 0.2312 - val_accuracy: 0.9183\n",
      "Epoch 6/100\n",
      "113/113 - 0s - loss: 0.2375 - accuracy: 0.9088 - val_loss: 0.2255 - val_accuracy: 0.9190\n",
      "Epoch 7/100\n",
      "113/113 - 0s - loss: 0.2368 - accuracy: 0.9067 - val_loss: 0.2309 - val_accuracy: 0.9197\n"
     ]
    },
    {
     "output_type": "execute_result",
     "data": {
      "text/plain": [
       "<tensorflow.python.keras.callbacks.History at 0x2691c662b80>"
      ]
     },
     "metadata": {},
     "execution_count": 27
    }
   ],
   "metadata": {
    "execution": {
     "iopub.execute_input": "2021-08-27T03:18:34.379913Z",
     "iopub.status.busy": "2021-08-27T03:18:34.379194Z",
     "iopub.status.idle": "2021-08-27T03:18:36.775313Z",
     "shell.execute_reply": "2021-08-27T03:18:36.776001Z",
     "shell.execute_reply.started": "2021-08-27T03:14:41.219399Z"
    },
    "papermill": {
     "duration": 2.409866,
     "end_time": "2021-08-27T03:18:36.776200",
     "exception": false,
     "start_time": "2021-08-27T03:18:34.366334",
     "status": "completed"
    },
    "tags": []
   }
  },
  {
   "cell_type": "markdown",
   "source": [
    "# Optimizing Hyperparameters"
   ],
   "metadata": {}
  },
  {
   "cell_type": "code",
   "execution_count": 24,
   "source": [
    "col_names = ['hidden_layer_size', 'val_accuracy']\r\n",
    "results_df = pd.DataFrame(columns= col_names)\r\n",
    "for hidden_layer_size in list(range(200, 800, 50)):\r\n",
    "    #create model\r\n",
    "    model = tf.keras.Sequential([\r\n",
    "                                tf.keras.layers.Dense(hidden_layer_size, activation = 'relu'),\r\n",
    "                                #tf.keras.layers.Dense(hidden_layer_size, activation = 'relu'),\r\n",
    "                                tf.keras.layers.Dense(output_layer, activation = 'softmax')\r\n",
    "    ])\r\n",
    "    #create optimizer and loss function\r\n",
    "    model.compile(optimizer = 'adam', \r\n",
    "                loss = 'sparse_categorical_crossentropy', \r\n",
    "                metrics = ['accuracy'])\r\n",
    "\r\n",
    "    early_stop = tf.keras.callbacks.EarlyStopping(patience=2)\r\n",
    "    results = model.fit(train_inputs, train_targets,\r\n",
    "         batch_size = batch_size,\r\n",
    "          epochs = max_epochs,\r\n",
    "          validation_data = (val_inputs, val_targets),\r\n",
    "          callbacks = [early_stop],\r\n",
    "          verbose = 0)\r\n",
    "    val_accuracy = results.history['val_accuracy'][len(results.history['val_accuracy']) -1]\r\n",
    "    to_append = [hidden_layer_size ,val_accuracy]\r\n",
    "    df_length =  len(results_df)\r\n",
    "    results_df.loc[df_length] = to_append"
   ],
   "outputs": [],
   "metadata": {}
  },
  {
   "cell_type": "code",
   "execution_count": 53,
   "source": [
    "plt.scatter(results_df.hidden_layer_size, round(results_df.val_accuracy,4)*100)\r\n",
    "plt.plot(results_df.hidden_layer_size, round(results_df.val_accuracy,4)*100,linewidth=1,color='black' )\r\n",
    "plt.xlabel('hidden_layer_size')\r\n",
    "plt.ylabel('Accuracy Percentage')\r\n",
    "plt.show()\r\n",
    "#plt.savefig('Audiobook_graph.jpg')\r\n"
   ],
   "outputs": [
    {
     "output_type": "display_data",
     "data": {
      "image/png": "[encoded data removed]",
      "text/plain": [
       "<Figure size 432x288 with 1 Axes>"
      ]
     },
     "metadata": {}
    }
   ],
   "metadata": {}
  },
  {
   "cell_type": "code",
   "execution_count": 25,
   "source": [
    "#As shown below, this is where I drew on the hyperperameters used for my origonal model:\r\n",
    "results_df.sort_values('val_accuracy', ascending= False)"
   ],
   "outputs": [
    {
     "output_type": "execute_result",
     "data": {
      "text/html": [
       "<div>\n",
       "<style scoped>\n",
       "    .dataframe tbody tr th:only-of-type {\n",
       "        vertical-align: middle;\n",
       "    }\n",
       "\n",
       "    .dataframe tbody tr th {\n",
       "        vertical-align: top;\n",
       "    }\n",
       "\n",
       "    .dataframe thead th {\n",
       "        text-align: right;\n",
       "    }\n",
       "</style>\n",
       "<table border=\"1\" class=\"dataframe\">\n",
       "  <thead>\n",
       "    <tr style=\"text-align: right;\">\n",
       "      <th></th>\n",
       "      <th>hidden_layer_size</th>\n",
       "      <th>val_accuracy</th>\n",
       "    </tr>\n",
       "  </thead>\n",
       "  <tbody>\n",
       "    <tr>\n",
       "      <th>3</th>\n",
       "      <td>350.0</td>\n",
       "      <td>0.921165</td>\n",
       "    </tr>\n",
       "    <tr>\n",
       "      <th>4</th>\n",
       "      <td>400.0</td>\n",
       "      <td>0.919744</td>\n",
       "    </tr>\n",
       "    <tr>\n",
       "      <th>6</th>\n",
       "      <td>500.0</td>\n",
       "      <td>0.919744</td>\n",
       "    </tr>\n",
       "    <tr>\n",
       "      <th>0</th>\n",
       "      <td>200.0</td>\n",
       "      <td>0.919034</td>\n",
       "    </tr>\n",
       "    <tr>\n",
       "      <th>1</th>\n",
       "      <td>250.0</td>\n",
       "      <td>0.919034</td>\n",
       "    </tr>\n",
       "    <tr>\n",
       "      <th>2</th>\n",
       "      <td>300.0</td>\n",
       "      <td>0.919034</td>\n",
       "    </tr>\n",
       "    <tr>\n",
       "      <th>7</th>\n",
       "      <td>550.0</td>\n",
       "      <td>0.919034</td>\n",
       "    </tr>\n",
       "    <tr>\n",
       "      <th>9</th>\n",
       "      <td>650.0</td>\n",
       "      <td>0.919034</td>\n",
       "    </tr>\n",
       "    <tr>\n",
       "      <th>10</th>\n",
       "      <td>700.0</td>\n",
       "      <td>0.919034</td>\n",
       "    </tr>\n",
       "    <tr>\n",
       "      <th>5</th>\n",
       "      <td>450.0</td>\n",
       "      <td>0.916903</td>\n",
       "    </tr>\n",
       "    <tr>\n",
       "      <th>11</th>\n",
       "      <td>750.0</td>\n",
       "      <td>0.915483</td>\n",
       "    </tr>\n",
       "    <tr>\n",
       "      <th>8</th>\n",
       "      <td>600.0</td>\n",
       "      <td>0.914773</td>\n",
       "    </tr>\n",
       "  </tbody>\n",
       "</table>\n",
       "</div>"
      ],
      "text/plain": [
       "    hidden_layer_size  val_accuracy\n",
       "3               350.0      0.921165\n",
       "4               400.0      0.919744\n",
       "6               500.0      0.919744\n",
       "0               200.0      0.919034\n",
       "1               250.0      0.919034\n",
       "2               300.0      0.919034\n",
       "7               550.0      0.919034\n",
       "9               650.0      0.919034\n",
       "10              700.0      0.919034\n",
       "5               450.0      0.916903\n",
       "11              750.0      0.915483\n",
       "8               600.0      0.914773"
      ]
     },
     "metadata": {},
     "execution_count": 25
    }
   ],
   "metadata": {}
  },
  {
   "cell_type": "code",
   "execution_count": 16,
   "source": [
    "#As shown below, this is where I drew on the hyperperameters used for my origonal model:\r\n",
    "results_df.sort_values('val_accuracy', ascending= False)"
   ],
   "outputs": [
    {
     "output_type": "execute_result",
     "data": {
      "text/html": [
       "<div>\n",
       "<style scoped>\n",
       "    .dataframe tbody tr th:only-of-type {\n",
       "        vertical-align: middle;\n",
       "    }\n",
       "\n",
       "    .dataframe tbody tr th {\n",
       "        vertical-align: top;\n",
       "    }\n",
       "\n",
       "    .dataframe thead th {\n",
       "        text-align: right;\n",
       "    }\n",
       "</style>\n",
       "<table border=\"1\" class=\"dataframe\">\n",
       "  <thead>\n",
       "    <tr style=\"text-align: right;\">\n",
       "      <th></th>\n",
       "      <th>hidden_layer_size</th>\n",
       "      <th>val_accuracy</th>\n",
       "    </tr>\n",
       "  </thead>\n",
       "  <tbody>\n",
       "    <tr>\n",
       "      <th>4</th>\n",
       "      <td>400.0</td>\n",
       "      <td>0.921165</td>\n",
       "    </tr>\n",
       "    <tr>\n",
       "      <th>6</th>\n",
       "      <td>500.0</td>\n",
       "      <td>0.920455</td>\n",
       "    </tr>\n",
       "    <tr>\n",
       "      <th>7</th>\n",
       "      <td>550.0</td>\n",
       "      <td>0.919744</td>\n",
       "    </tr>\n",
       "    <tr>\n",
       "      <th>3</th>\n",
       "      <td>350.0</td>\n",
       "      <td>0.918324</td>\n",
       "    </tr>\n",
       "    <tr>\n",
       "      <th>8</th>\n",
       "      <td>600.0</td>\n",
       "      <td>0.917614</td>\n",
       "    </tr>\n",
       "    <tr>\n",
       "      <th>1</th>\n",
       "      <td>250.0</td>\n",
       "      <td>0.916193</td>\n",
       "    </tr>\n",
       "    <tr>\n",
       "      <th>10</th>\n",
       "      <td>700.0</td>\n",
       "      <td>0.916193</td>\n",
       "    </tr>\n",
       "    <tr>\n",
       "      <th>11</th>\n",
       "      <td>750.0</td>\n",
       "      <td>0.916193</td>\n",
       "    </tr>\n",
       "    <tr>\n",
       "      <th>0</th>\n",
       "      <td>200.0</td>\n",
       "      <td>0.915483</td>\n",
       "    </tr>\n",
       "    <tr>\n",
       "      <th>5</th>\n",
       "      <td>450.0</td>\n",
       "      <td>0.914062</td>\n",
       "    </tr>\n",
       "    <tr>\n",
       "      <th>9</th>\n",
       "      <td>650.0</td>\n",
       "      <td>0.910511</td>\n",
       "    </tr>\n",
       "    <tr>\n",
       "      <th>2</th>\n",
       "      <td>300.0</td>\n",
       "      <td>0.906250</td>\n",
       "    </tr>\n",
       "  </tbody>\n",
       "</table>\n",
       "</div>"
      ],
      "text/plain": [
       "    hidden_layer_size  val_accuracy\n",
       "4               400.0      0.921165\n",
       "6               500.0      0.920455\n",
       "7               550.0      0.919744\n",
       "3               350.0      0.918324\n",
       "8               600.0      0.917614\n",
       "1               250.0      0.916193\n",
       "10              700.0      0.916193\n",
       "11              750.0      0.916193\n",
       "0               200.0      0.915483\n",
       "5               450.0      0.914062\n",
       "9               650.0      0.910511\n",
       "2               300.0      0.906250"
      ]
     },
     "metadata": {},
     "execution_count": 16
    }
   ],
   "metadata": {}
  },
  {
   "cell_type": "code",
   "execution_count": 28,
   "source": [
    "#Our model showed a 90% accuracy\r\n",
    "model.evaluate(test_inputs,test_targets)"
   ],
   "outputs": [
    {
     "output_type": "stream",
     "name": "stdout",
     "text": [
      "45/45 [==============================] - 0s 2ms/step - loss: 0.2542 - accuracy: 0.9028\n"
     ]
    },
    {
     "output_type": "execute_result",
     "data": {
      "text/plain": [
       "[0.2542424201965332, 0.9027678966522217]"
      ]
     },
     "metadata": {},
     "execution_count": 28
    }
   ],
   "metadata": {
    "execution": {
     "iopub.execute_input": "2021-08-27T03:18:36.806249Z",
     "iopub.status.busy": "2021-08-27T03:18:36.805383Z",
     "iopub.status.idle": "2021-08-27T03:18:36.899773Z",
     "shell.execute_reply": "2021-08-27T03:18:36.900301Z",
     "shell.execute_reply.started": "2021-08-27T03:14:46.931595Z"
    },
    "papermill": {
     "duration": 0.112041,
     "end_time": "2021-08-27T03:18:36.900478",
     "exception": false,
     "start_time": "2021-08-27T03:18:36.788437",
     "status": "completed"
    },
    "tags": []
   }
  },
  {
   "cell_type": "markdown",
   "source": [
    "**Interpretation**"
   ],
   "metadata": {
    "papermill": {
     "duration": 0.012707,
     "end_time": "2021-08-27T03:18:36.926145",
     "exception": false,
     "start_time": "2021-08-27T03:18:36.913438",
     "status": "completed"
    },
    "tags": []
   }
  },
  {
   "cell_type": "markdown",
   "source": [
    "Given our data, we can correctly predict 9 out of 10 times if an individual will continue to use this\r\n",
    "Audiobook platform."
   ],
   "metadata": {
    "papermill": {
     "duration": 0.012127,
     "end_time": "2021-08-27T03:18:36.950806",
     "exception": false,
     "start_time": "2021-08-27T03:18:36.938679",
     "status": "completed"
    },
    "tags": []
   }
  },
  {
   "cell_type": "code",
   "execution_count": null,
   "source": [],
   "outputs": [],
   "metadata": {
    "papermill": {
     "duration": 0.012357,
     "end_time": "2021-08-27T03:18:36.975792",
     "exception": false,
     "start_time": "2021-08-27T03:18:36.963435",
     "status": "completed"
    },
    "tags": []
   }
  },
  {
   "cell_type": "markdown",
   "source": [],
   "metadata": {
    "papermill": {
     "duration": 0.012389,
     "end_time": "2021-08-27T03:18:37.001015",
     "exception": false,
     "start_time": "2021-08-27T03:18:36.988626",
     "status": "completed"
    },
    "tags": []
   }
  }
 ],
 "metadata": {
  "kernelspec": {
   "name": "python3",
   "display_name": "Python 3.8.5 64-bit ('bigmoney': conda)"
  },
  "language_info": {
   "codemirror_mode": {
    "name": "ipython",
    "version": 3
   },
   "file_extension": ".py",
   "mimetype": "text/x-python",
   "name": "python",
   "nbconvert_exporter": "python",
   "pygments_lexer": "ipython3",
   "version": "3.8.5"
  },
  "papermill": {
   "default_parameters": {},
   "duration": 18.830845,
   "end_time": "2021-08-27T03:18:38.801366",
   "environment_variables": {},
   "exception": null,
   "input_path": "__notebook__.ipynb",
   "output_path": "__notebook__.ipynb",
   "parameters": {},
   "start_time": "2021-08-27T03:18:19.970521",
   "version": "2.3.3"
  },
  "interpreter": {
   "hash": "b0be6a5c699e71b42c1f0721bbf30435518180c4d96f649e384d422db7e7e937"
  }
 },
 "nbformat": 4,
 "nbformat_minor": 5
}