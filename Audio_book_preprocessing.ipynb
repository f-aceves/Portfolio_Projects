{
    "cells": [
        {
            "cell_type": "code",
            "execution_count": 1,
            "source": [
                "import numpy as np\r\n",
                "import pandas as pd\r\n",
                "from sklearn.model_selection import train_test_split\r\n",
                "from sklearn import preprocessing"
            ],
            "outputs": [],
            "metadata": {}
        },
        {
            "cell_type": "code",
            "execution_count": 2,
            "source": [
                "col_names = ['id', 'total book length', 'book length avg',\r\n",
                "            'total price', 'price avg', 'review', \r\n",
                "            'review score', 'min listened', 'completion', \r\n",
                "            'support requests', 'last visit since first purchase', 'targets' ]\r\n",
                "raw_data = pd.read_csv('Audiobooks_data.csv', names = col_names )"
            ],
            "outputs": [],
            "metadata": {}
        },
        {
            "cell_type": "code",
            "execution_count": 3,
            "source": [
                "#A closer look at the data\r\n",
                "raw_data.describe()\r\n"
            ],
            "outputs": [
                {
                    "output_type": "execute_result",
                    "data": {
                        "text/html": [
                            "<div>\n",
                            "<style scoped>\n",
                            "    .dataframe tbody tr th:only-of-type {\n",
                            "        vertical-align: middle;\n",
                            "    }\n",
                            "\n",
                            "    .dataframe tbody tr th {\n",
                            "        vertical-align: top;\n",
                            "    }\n",
                            "\n",
                            "    .dataframe thead th {\n",
                            "        text-align: right;\n",
                            "    }\n",
                            "</style>\n",
                            "<table border=\"1\" class=\"dataframe\">\n",
                            "  <thead>\n",
                            "    <tr style=\"text-align: right;\">\n",
                            "      <th></th>\n",
                            "      <th>id</th>\n",
                            "      <th>total book length</th>\n",
                            "      <th>book length avg</th>\n",
                            "      <th>total price</th>\n",
                            "      <th>price avg</th>\n",
                            "      <th>review</th>\n",
                            "      <th>review score</th>\n",
                            "      <th>min listened</th>\n",
                            "      <th>completion</th>\n",
                            "      <th>support requests</th>\n",
                            "      <th>last visit since first purchase</th>\n",
                            "      <th>targets</th>\n",
                            "    </tr>\n",
                            "  </thead>\n",
                            "  <tbody>\n",
                            "    <tr>\n",
                            "      <th>count</th>\n",
                            "      <td>14084.000000</td>\n",
                            "      <td>14084.000000</td>\n",
                            "      <td>14084.000000</td>\n",
                            "      <td>14084.000000</td>\n",
                            "      <td>14084.000000</td>\n",
                            "      <td>14084.000000</td>\n",
                            "      <td>14084.000000</td>\n",
                            "      <td>14084.000000</td>\n",
                            "      <td>14084.000000</td>\n",
                            "      <td>14084.000000</td>\n",
                            "      <td>14084.000000</td>\n",
                            "      <td>14084.000000</td>\n",
                            "    </tr>\n",
                            "    <tr>\n",
                            "      <th>mean</th>\n",
                            "      <td>16772.491551</td>\n",
                            "      <td>1591.281685</td>\n",
                            "      <td>1678.608634</td>\n",
                            "      <td>7.103791</td>\n",
                            "      <td>7.543805</td>\n",
                            "      <td>0.160750</td>\n",
                            "      <td>8.909795</td>\n",
                            "      <td>0.125659</td>\n",
                            "      <td>189.888983</td>\n",
                            "      <td>0.070222</td>\n",
                            "      <td>61.935033</td>\n",
                            "      <td>0.158833</td>\n",
                            "    </tr>\n",
                            "    <tr>\n",
                            "      <th>std</th>\n",
                            "      <td>9691.807248</td>\n",
                            "      <td>504.340663</td>\n",
                            "      <td>654.838599</td>\n",
                            "      <td>4.931673</td>\n",
                            "      <td>5.560129</td>\n",
                            "      <td>0.367313</td>\n",
                            "      <td>0.643406</td>\n",
                            "      <td>0.241206</td>\n",
                            "      <td>371.084010</td>\n",
                            "      <td>0.472157</td>\n",
                            "      <td>88.207634</td>\n",
                            "      <td>0.365533</td>\n",
                            "    </tr>\n",
                            "    <tr>\n",
                            "      <th>min</th>\n",
                            "      <td>2.000000</td>\n",
                            "      <td>216.000000</td>\n",
                            "      <td>216.000000</td>\n",
                            "      <td>3.860000</td>\n",
                            "      <td>3.860000</td>\n",
                            "      <td>0.000000</td>\n",
                            "      <td>1.000000</td>\n",
                            "      <td>0.000000</td>\n",
                            "      <td>0.000000</td>\n",
                            "      <td>0.000000</td>\n",
                            "      <td>0.000000</td>\n",
                            "      <td>0.000000</td>\n",
                            "    </tr>\n",
                            "    <tr>\n",
                            "      <th>25%</th>\n",
                            "      <td>8368.000000</td>\n",
                            "      <td>1188.000000</td>\n",
                            "      <td>1188.000000</td>\n",
                            "      <td>5.330000</td>\n",
                            "      <td>5.330000</td>\n",
                            "      <td>0.000000</td>\n",
                            "      <td>8.910000</td>\n",
                            "      <td>0.000000</td>\n",
                            "      <td>0.000000</td>\n",
                            "      <td>0.000000</td>\n",
                            "      <td>0.000000</td>\n",
                            "      <td>0.000000</td>\n",
                            "    </tr>\n",
                            "    <tr>\n",
                            "      <th>50%</th>\n",
                            "      <td>16711.500000</td>\n",
                            "      <td>1620.000000</td>\n",
                            "      <td>1620.000000</td>\n",
                            "      <td>5.950000</td>\n",
                            "      <td>6.070000</td>\n",
                            "      <td>0.000000</td>\n",
                            "      <td>8.910000</td>\n",
                            "      <td>0.000000</td>\n",
                            "      <td>0.000000</td>\n",
                            "      <td>0.000000</td>\n",
                            "      <td>11.000000</td>\n",
                            "      <td>0.000000</td>\n",
                            "    </tr>\n",
                            "    <tr>\n",
                            "      <th>75%</th>\n",
                            "      <td>25187.250000</td>\n",
                            "      <td>2160.000000</td>\n",
                            "      <td>2160.000000</td>\n",
                            "      <td>8.000000</td>\n",
                            "      <td>8.000000</td>\n",
                            "      <td>0.000000</td>\n",
                            "      <td>8.910000</td>\n",
                            "      <td>0.130000</td>\n",
                            "      <td>194.400000</td>\n",
                            "      <td>0.000000</td>\n",
                            "      <td>105.000000</td>\n",
                            "      <td>0.000000</td>\n",
                            "    </tr>\n",
                            "    <tr>\n",
                            "      <th>max</th>\n",
                            "      <td>33683.000000</td>\n",
                            "      <td>2160.000000</td>\n",
                            "      <td>7020.000000</td>\n",
                            "      <td>130.940000</td>\n",
                            "      <td>130.940000</td>\n",
                            "      <td>1.000000</td>\n",
                            "      <td>10.000000</td>\n",
                            "      <td>1.000000</td>\n",
                            "      <td>2160.000000</td>\n",
                            "      <td>30.000000</td>\n",
                            "      <td>464.000000</td>\n",
                            "      <td>1.000000</td>\n",
                            "    </tr>\n",
                            "  </tbody>\n",
                            "</table>\n",
                            "</div>"
                        ],
                        "text/plain": [
                            "                 id  total book length  book length avg   total price  \\\n",
                            "count  14084.000000       14084.000000     14084.000000  14084.000000   \n",
                            "mean   16772.491551        1591.281685      1678.608634      7.103791   \n",
                            "std     9691.807248         504.340663       654.838599      4.931673   \n",
                            "min        2.000000         216.000000       216.000000      3.860000   \n",
                            "25%     8368.000000        1188.000000      1188.000000      5.330000   \n",
                            "50%    16711.500000        1620.000000      1620.000000      5.950000   \n",
                            "75%    25187.250000        2160.000000      2160.000000      8.000000   \n",
                            "max    33683.000000        2160.000000      7020.000000    130.940000   \n",
                            "\n",
                            "          price avg        review  review score  min listened    completion  \\\n",
                            "count  14084.000000  14084.000000  14084.000000  14084.000000  14084.000000   \n",
                            "mean       7.543805      0.160750      8.909795      0.125659    189.888983   \n",
                            "std        5.560129      0.367313      0.643406      0.241206    371.084010   \n",
                            "min        3.860000      0.000000      1.000000      0.000000      0.000000   \n",
                            "25%        5.330000      0.000000      8.910000      0.000000      0.000000   \n",
                            "50%        6.070000      0.000000      8.910000      0.000000      0.000000   \n",
                            "75%        8.000000      0.000000      8.910000      0.130000    194.400000   \n",
                            "max      130.940000      1.000000     10.000000      1.000000   2160.000000   \n",
                            "\n",
                            "       support requests  last visit since first purchase       targets  \n",
                            "count      14084.000000                     14084.000000  14084.000000  \n",
                            "mean           0.070222                        61.935033      0.158833  \n",
                            "std            0.472157                        88.207634      0.365533  \n",
                            "min            0.000000                         0.000000      0.000000  \n",
                            "25%            0.000000                         0.000000      0.000000  \n",
                            "50%            0.000000                        11.000000      0.000000  \n",
                            "75%            0.000000                       105.000000      0.000000  \n",
                            "max           30.000000                       464.000000      1.000000  "
                        ]
                    },
                    "metadata": {},
                    "execution_count": 3
                }
            ],
            "metadata": {}
        },
        {
            "cell_type": "code",
            "execution_count": 4,
            "source": [
                "##There are no missing values\r\n",
                "raw_data.isnull().any()"
            ],
            "outputs": [
                {
                    "output_type": "execute_result",
                    "data": {
                        "text/plain": [
                            "id                                 False\n",
                            "total book length                  False\n",
                            "book length avg                    False\n",
                            "total price                        False\n",
                            "price avg                          False\n",
                            "review                             False\n",
                            "review score                       False\n",
                            "min listened                       False\n",
                            "completion                         False\n",
                            "support requests                   False\n",
                            "last visit since first purchase    False\n",
                            "targets                            False\n",
                            "dtype: bool"
                        ]
                    },
                    "metadata": {},
                    "execution_count": 4
                }
            ],
            "metadata": {}
        },
        {
            "cell_type": "code",
            "execution_count": 5,
            "source": [
                "#check the types of features we have (They are all numerical values; no categories)\r\n",
                "#6 are float64 which suggests they are continous; the 5 int64 are descrete variables excluding 'id' column\r\n",
                "raw_data.dtypes"
            ],
            "outputs": [
                {
                    "output_type": "execute_result",
                    "data": {
                        "text/plain": [
                            "id                                   int64\n",
                            "total book length                  float64\n",
                            "book length avg                      int64\n",
                            "total price                        float64\n",
                            "price avg                          float64\n",
                            "review                               int64\n",
                            "review score                       float64\n",
                            "min listened                       float64\n",
                            "completion                         float64\n",
                            "support requests                     int64\n",
                            "last visit since first purchase      int64\n",
                            "targets                              int64\n",
                            "dtype: object"
                        ]
                    },
                    "metadata": {},
                    "execution_count": 5
                }
            ],
            "metadata": {}
        },
        {
            "cell_type": "code",
            "execution_count": 6,
            "source": [
                "#Removing 'id' columns since we have indexed rows\r\n",
                "df = raw_data.copy()\r\n",
                "df.drop('id', axis = 1, inplace = True)"
            ],
            "outputs": [],
            "metadata": {}
        },
        {
            "cell_type": "code",
            "execution_count": 7,
            "source": [
                "#as shown, the dataset needs to be balanced\r\n",
                "target_count = df['targets'].value_counts()\r\n",
                "target_total = target_count[0] + target_count[1]"
            ],
            "outputs": [],
            "metadata": {}
        },
        {
            "cell_type": "code",
            "execution_count": 8,
            "source": [
                "#I want a 80-10-10 split for my train, val, and test data\r\n",
                "#To keep it balanced, I need to keep the same ratio for both 0 and 1 target values\r\n",
                "print(target_count[0]/ target_total, target_count[1]/ target_total)"
            ],
            "outputs": [
                {
                    "output_type": "stream",
                    "name": "stdout",
                    "text": [
                        "0.8411672820221529 0.1588327179778472\n"
                    ]
                }
            ],
            "metadata": {}
        },
        {
            "cell_type": "code",
            "execution_count": 9,
            "source": [
                "#will sepearte my data and the targets\r\n",
                "targets = df.targets\r\n",
                "df.drop('targets',axis = 1, inplace = True)"
            ],
            "outputs": [],
            "metadata": {}
        },
        {
            "cell_type": "code",
            "execution_count": 10,
            "source": [
                "#Creating training and temp (will be val and test) data\r\n",
                "x_train, x_temp, y_train, y_temp = train_test_split(df, targets,\r\n",
                "                                    test_size = .2, shuffle = 42, stratify = targets)"
            ],
            "outputs": [],
            "metadata": {}
        },
        {
            "cell_type": "code",
            "execution_count": 11,
            "source": [
                "#Now I'll split my temp data into my new val and test data\r\n",
                "x_val, x_test, y_val, y_test = train_test_split(x_temp, y_temp,\r\n",
                "                                    test_size = .5, stratify = y_temp)"
            ],
            "outputs": [],
            "metadata": {}
        },
        {
            "cell_type": "code",
            "execution_count": 12,
            "source": [
                "#As shown, both train, val and test are now all balanced\r\n",
                "y_train_counter = np.unique(y_train, return_counts = True)[1]\r\n",
                "y_train_total = y_train_counter[0] + y_train_counter[1]\r\n",
                "\r\n",
                "y_test_counter = np.unique(y_test, return_counts = True)[1]\r\n",
                "y_test_total = y_test_counter[0] + y_test_counter[1]\r\n",
                "\r\n",
                "y_val_counter = np.unique(y_val, return_counts = True)[1]\r\n",
                "y_val_total = y_val_counter[0] + y_val_counter[1]\r\n",
                "\r\n",
                "print('Training data set: ', y_train_counter[0]/ y_train_total, y_train_counter[1]/ y_train_total)\r\n",
                "print('Total size: ', y_train_total, round(y_train_total / (y_train_total + y_test_total + y_val_total), 3))\r\n",
                "\r\n",
                "\r\n",
                "print('test data set: ', y_test_counter[0]/ y_test_total, y_test_counter[1]/ y_test_total)\r\n",
                "print('Total size: ', y_test_total, round(y_test_total / (y_train_total + y_test_total + y_val_total), 3))\r\n",
                "\r\n",
                "print('val data set: ', y_val_counter[0]/ y_val_total, y_val_counter[1]/ y_val_total)\r\n",
                "print('Total size: ', y_val_total, round(y_val_total / (y_train_total + y_test_total +y_val_total), 3))"
            ],
            "outputs": [
                {
                    "output_type": "stream",
                    "name": "stdout",
                    "text": [
                        "Training data set:  0.8411289606816367 0.15887103931836336\n",
                        "Total size:  11267 0.8\n",
                        "test data set:  0.8410220014194464 0.1589779985805536\n",
                        "Total size:  1409 0.1\n",
                        "val data set:  0.8416193181818182 0.15838068181818182\n",
                        "Total size:  1408 0.1\n"
                    ]
                }
            ],
            "metadata": {}
        },
        {
            "cell_type": "code",
            "execution_count": 13,
            "source": [
                "#Now I will standardize my features by my training data\r\n",
                "my_scaler = preprocessing.StandardScaler()\r\n",
                "new_x_train = my_scaler.fit_transform(x_train)\r\n"
            ],
            "outputs": [],
            "metadata": {}
        },
        {
            "cell_type": "code",
            "execution_count": 14,
            "source": [
                "#This same scaler will now be applied to my val and test data\r\n",
                "new_x_val = my_scaler.transform(x_val)\r\n",
                "new_x_test = my_scaler.transform(x_test)"
            ],
            "outputs": [],
            "metadata": {}
        },
        {
            "cell_type": "code",
            "execution_count": 15,
            "source": [
                "np.savez('audiobook_train_data', inputs = new_x_train, targets = y_train )\r\n",
                "np.savez('audiobook_val_data', inputs = new_x_val, targets = y_val)\r\n",
                "np.savez('audiobook_test_data', inputs = new_x_test, targets = y_test )"
            ],
            "outputs": [],
            "metadata": {}
        },
        {
            "cell_type": "code",
            "execution_count": null,
            "source": [],
            "outputs": [],
            "metadata": {}
        }
    ],
    "metadata": {
        "orig_nbformat": 4,
        "language_info": {
            "name": "python",
            "version": "3.8.5",
            "mimetype": "text/x-python",
            "codemirror_mode": {
                "name": "ipython",
                "version": 3
            },
            "pygments_lexer": "ipython3",
            "nbconvert_exporter": "python",
            "file_extension": ".py"
        },
        "kernelspec": {
            "name": "python3",
            "display_name": "Python 3.8.5 64-bit ('bigmoney': conda)"
        },
        "interpreter": {
            "hash": "b0be6a5c699e71b42c1f0721bbf30435518180c4d96f649e384d422db7e7e937"
        }
    },
    "nbformat": 4,
    "nbformat_minor": 2
}